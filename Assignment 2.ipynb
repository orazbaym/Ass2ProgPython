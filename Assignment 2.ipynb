{
 "cells": [
  {
   "cell_type": "markdown",
   "id": "0f8a3f91",
   "metadata": {},
   "source": [
    "## Task 1"
   ]
  },
  {
   "cell_type": "code",
   "execution_count": 79,
   "id": "052b1cec",
   "metadata": {
    "scrolled": true
   },
   "outputs": [
    {
     "name": "stderr",
     "output_type": "stream",
     "text": [
      "[nltk_data] Downloading package punkt to\n",
      "[nltk_data]     C:\\Users\\Muha\\AppData\\Roaming\\nltk_data...\n",
      "[nltk_data]   Package punkt is already up-to-date!\n",
      "[nltk_data] Downloading package wordnet to\n",
      "[nltk_data]     C:\\Users\\Muha\\AppData\\Roaming\\nltk_data...\n",
      "[nltk_data]   Package wordnet is already up-to-date!\n",
      "[nltk_data] Downloading package stopwords to\n",
      "[nltk_data]     C:\\Users\\Muha\\AppData\\Roaming\\nltk_data...\n",
      "[nltk_data]   Package stopwords is already up-to-date!\n",
      "[nltk_data] Downloading package averaged_perceptron_tagger to\n",
      "[nltk_data]     C:\\Users\\Muha\\AppData\\Roaming\\nltk_data...\n",
      "[nltk_data]   Unzipping taggers\\averaged_perceptron_tagger.zip.\n"
     ]
    },
    {
     "data": {
      "text/plain": [
       "True"
      ]
     },
     "execution_count": 79,
     "metadata": {},
     "output_type": "execute_result"
    }
   ],
   "source": [
    "import nltk\n",
    "nltk.download('punkt')\n",
    "nltk.download('wordnet')\n",
    "nltk.download('stopwords')\n",
    "nltk.data.path.append(\"/path/to/nltk_data\")\n",
    "nltk.download('averaged_perceptron_tagger')"
   ]
  },
  {
   "cell_type": "code",
   "execution_count": 80,
   "id": "d5fd0bbc",
   "metadata": {},
   "outputs": [
    {
     "name": "stdout",
     "output_type": "stream",
     "text": [
      "As they ventured deeper, the sound of 45 footsteps echoed.\n",
      "Suddenly, a hidden trapdoor sprang open!\n",
      "It was a moment of both surprise and danger.\n",
      "The explorers gasped, realizing they had stumbled upon something far more complex than they had imagined!\n"
     ]
    }
   ],
   "source": [
    "text = \"As they ventured deeper, the sound of 45 footsteps echoed.\\nSuddenly, a hidden trapdoor sprang open!\\nIt was a moment of both surprise and danger.\\nThe explorers gasped, realizing they had stumbled upon something far more complex than they had imagined!\"\n",
    "print(text)"
   ]
  },
  {
   "cell_type": "code",
   "execution_count": 81,
   "id": "5b988fef",
   "metadata": {},
   "outputs": [],
   "source": [
    "from nltk.corpus import stopwords\n",
    "from nltk.tokenize import word_tokenize, sent_tokenize"
   ]
  },
  {
   "cell_type": "code",
   "execution_count": 82,
   "id": "055a1d5b",
   "metadata": {},
   "outputs": [],
   "source": [
    "from nltk.stem import WordNetLemmatizer\n",
    "from nltk.corpus import wordnet as wn\n",
    "from nltk.stem.wordnet import WordNetLemmatizer\n",
    "from nltk import word_tokenize, pos_tag\n",
    "from collections import defaultdict"
   ]
  },
  {
   "cell_type": "code",
   "execution_count": 83,
   "id": "3bdcc6c8",
   "metadata": {},
   "outputs": [
    {
     "name": "stdout",
     "output_type": "stream",
     "text": [
      "As{As=IN} ventured{venture=VBN} deeper{deeper=IN} sound{sound=JJ} footsteps{footstep=NNS} echoed{echo=VBD}\n",
      "Suddenly{Suddenly=RB} hidden{hidden=JJ} trapdoor{trapdoor=NN} sprang{sprang=NN} open{open=JJ}\n",
      "It{It=PRP} moment{moment=NN} surprise{surprise=NN} danger{danger=NN}\n",
      "The{The=DT} explorers{explorer=NNS} gasped{gasp=VBD} realizing{realize=VBG} stumbled{stumble=VBN} upon{upon=IN} something{something=NN} far{far=RB} complex{complex=JJ} imagined{imagine=VBD}\n"
     ]
    }
   ],
   "source": [
    "#text = text.lower()\n",
    "\n",
    "sentences = sent_tokenize(text)\n",
    "result_sentences = []\n",
    "\n",
    "lemma_function = WordNetLemmatizer()\n",
    "\n",
    "tag_map = defaultdict(lambda : wn.NOUN)\n",
    "tag_map['S'] = wn.NOUN\n",
    "tag_map['A'] = wn.ADJ\n",
    "tag_map['V'] = wn.VERB\n",
    "tag_map['ADV'] = wn.ADV\n",
    "\n",
    "for sentence in sentences:\n",
    "    tokenization = word_tokenize(sentence) # разделение на слова\n",
    "    tokens = [word for word in tokenization if word.isalpha() and not word in stopwords.words('english')]\n",
    "    lemmatized_tokens = []\n",
    "    \n",
    "    for word, tag in pos_tag(tokens):\n",
    "        lemmaWord = lemma_function.lemmatize(word, tag_map[tag[0]])\n",
    "        lemmatized_token = f'{word}{{{lemmaWord}={tag}}}'\n",
    "        lemmatized_tokens.append(lemmatized_token)\n",
    "        \n",
    "    result_sentence = ' '.join(lemmatized_tokens)\n",
    "    result_sentences.append(result_sentence)\n",
    "\n",
    "result_text = '\\n'.join(result_sentences)\n",
    "print(result_text)"
   ]
  },
  {
   "cell_type": "markdown",
   "id": "dd22bb6c",
   "metadata": {},
   "source": [
    "## Task 2"
   ]
  },
  {
   "cell_type": "code",
   "execution_count": 88,
   "id": "55cb29b8",
   "metadata": {},
   "outputs": [],
   "source": [
    "import os\n",
    "import heapq\n",
    "from nltk.probability import FreqDist"
   ]
  },
  {
   "cell_type": "code",
   "execution_count": 117,
   "id": "3c9c3bcc",
   "metadata": {},
   "outputs": [
    {
     "name": "stdout",
     "output_type": "stream",
     "text": [
      "Abstract for the article1.txt :\n",
      "The system receives as input a polyphonic \n",
      "music (PCM data) and outputs information of\n",
      "plagiarized music (music title, time, etc.).\n",
      "In Similarity Calculation Modules, the \n",
      "similarity between the note sequence of the input \n",
      "polyphonic music and those of music in the database is \n",
      "calculated.\n",
      "The proposed music \n",
      "plagiarism detection system should be a welcome news \n",
      "to the music industry.\n",
      "\n",
      "Abstract for the article2.txt :\n",
      "In this paper, we address the development of a system that detects plagiarism \n",
      "based on the similar melody searching, which is an operation that finds the melodies \n",
      "similar to a given query melody from a music database.\n",
      "Music Plagiarism Detection Using Melody Databases 685 \n",
      "â€¢ A three-step query processing: it provides fast search ability by taking a three-step \n",
      "query processing method, which consists of index searching, window stitching, \n",
      "and post-processing.\n",
      "Similar melody searching is to find \n",
      "the melodies similar to a given query melody from a music database.\n",
      "\n",
      "Abstract for the article3.txt :\n",
      "Abstract: Music plagiarism detector is an alternative approach for music genre classification which converts \n",
      "the audio signal into spectrograms and then extracts features from this visual representation.\n",
      "In this we suggest a method for indexing the features extracted from every melody and a method for \n",
      "processing plagiarism detection by using the index.\n",
      "With our plagiarism detection system, composers can easily \n",
      "search for the melodies similar to their ones from music databases.\n",
      "\n",
      "Abstract for the article4.txt :\n",
      "Due to the fact that sampling is basically the use of a song in a song it is \n",
      "Music Plagiarism Detector\n",
      "National Conference On Discrete Mathematics & Computing (NCDMC-2017) 9 | Page\n",
      "related to the task of cover song detection.\n",
      "Every year ,vast numbers of new music \n",
      "tracks are released globally, and questionable similarities exist in some sections of music tracks.\n",
      "Sampling Plagiarism\n",
      "The term sampling describes the re-use of recorded sounds or music excerpts in another song .\n",
      "\n",
      "Abstract for the article5.txt :\n",
      "Rhythm plagiarism has been scarcely covered in the lit\u0002Erature but it is closely related to rhythm similarity estimation\n",
      "Paulus and Klapuri took the melody as a reference for rhythm\n",
      "They transformed the melody into rhythmical strings which are easier to compare along structural dimensions.\n",
      "Rhythm Plagiarism\n",
      "A prominent example for rhythm plagiarism is the so-called Amen Break.\n",
      "Melody plagiarism inspection can be done with basically the same approach, \n",
      "since means to identify and evaluate melodic similarity are required.\n",
      "\n"
     ]
    }
   ],
   "source": [
    "def abstracts(text_file):\n",
    "    with open(text_file, 'r', encoding='cp1252') as file:\n",
    "        article_text = file.read()\n",
    "\n",
    "    stop_words = set(stopwords.words('english'))\n",
    "    \n",
    "    sentences = sent_tokenize(article_text)\n",
    "    words = word_tokenize(article_text)\n",
    "\n",
    "    filtered_words = [word.lower() for word in words if word.isalnum() and word.lower() not in stop_words]\n",
    "    word_freq = FreqDist(filtered_words)\n",
    "\n",
    "    sentence_scores = {}\n",
    "    for sentence in sentences:\n",
    "        for word in word_tokenize(sentence):\n",
    "            if word.lower() in word_freq:\n",
    "                if sentence not in sentence_scores:\n",
    "                    sentence_scores[sentence] = word_freq[word.lower()]\n",
    "                else:\n",
    "                    sentence_scores[sentence] += word_freq[word.lower()]\n",
    "\n",
    "    summary_sentences = heapq.nlargest(3, sentence_scores, key=sentence_scores.get)\n",
    "    return summary_sentences\n",
    "os.chdir(r\"C:\\Users\\Muha\\Desktop\\programming\\python\\task2\")\n",
    "dir_lis = os.listdir()\n",
    "\n",
    "for file_name in dir_lis:\n",
    "    summary = abstracts(file_name)\n",
    "    \n",
    "    print(\"Abstract for the\", file_name, ':')\n",
    "    for sentence in summary:\n",
    "        print(sentence)\n",
    "    \n",
    "    print()"
   ]
  },
  {
   "cell_type": "markdown",
   "id": "218ec923",
   "metadata": {},
   "source": [
    "## Task 3"
   ]
  },
  {
   "cell_type": "code",
   "execution_count": 100,
   "id": "bbe50a2d",
   "metadata": {},
   "outputs": [],
   "source": [
    "import numpy as np\n",
    "import pandas as pd\n",
    "import re"
   ]
  },
  {
   "cell_type": "code",
   "execution_count": 102,
   "id": "fac5a39c",
   "metadata": {},
   "outputs": [
    {
     "data": {
      "text/html": [
       "<div>\n",
       "<style scoped>\n",
       "    .dataframe tbody tr th:only-of-type {\n",
       "        vertical-align: middle;\n",
       "    }\n",
       "\n",
       "    .dataframe tbody tr th {\n",
       "        vertical-align: top;\n",
       "    }\n",
       "\n",
       "    .dataframe thead th {\n",
       "        text-align: right;\n",
       "    }\n",
       "</style>\n",
       "<table border=\"1\" class=\"dataframe\">\n",
       "  <thead>\n",
       "    <tr style=\"text-align: right;\">\n",
       "      <th></th>\n",
       "      <th>File Name</th>\n",
       "      <th>Caption</th>\n",
       "      <th>LABEL</th>\n",
       "    </tr>\n",
       "  </thead>\n",
       "  <tbody>\n",
       "    <tr>\n",
       "      <th>0</th>\n",
       "      <td>1.txt</td>\n",
       "      <td>How I feel today #legday #jelly #aching #gym</td>\n",
       "      <td>negative</td>\n",
       "    </tr>\n",
       "    <tr>\n",
       "      <th>1</th>\n",
       "      <td>10.txt</td>\n",
       "      <td>@ArrivaTW absolute disgrace two carriages from...</td>\n",
       "      <td>negative</td>\n",
       "    </tr>\n",
       "    <tr>\n",
       "      <th>2</th>\n",
       "      <td>100.txt</td>\n",
       "      <td>This is my Valentine's from 1 of my nephews. I...</td>\n",
       "      <td>positive</td>\n",
       "    </tr>\n",
       "    <tr>\n",
       "      <th>3</th>\n",
       "      <td>1000.txt</td>\n",
       "      <td>betterfeelingfilms: RT via Instagram: First da...</td>\n",
       "      <td>neutral</td>\n",
       "    </tr>\n",
       "    <tr>\n",
       "      <th>4</th>\n",
       "      <td>1001.txt</td>\n",
       "      <td>Zoe's first love #Rattled @JohnnyHarper15</td>\n",
       "      <td>positive</td>\n",
       "    </tr>\n",
       "  </tbody>\n",
       "</table>\n",
       "</div>"
      ],
      "text/plain": [
       "  File Name                                            Caption     LABEL\n",
       "0     1.txt      How I feel today #legday #jelly #aching #gym   negative\n",
       "1    10.txt  @ArrivaTW absolute disgrace two carriages from...  negative\n",
       "2   100.txt  This is my Valentine's from 1 of my nephews. I...  positive\n",
       "3  1000.txt  betterfeelingfilms: RT via Instagram: First da...   neutral\n",
       "4  1001.txt         Zoe's first love #Rattled @JohnnyHarper15   positive"
      ]
     },
     "execution_count": 102,
     "metadata": {},
     "output_type": "execute_result"
    }
   ],
   "source": [
    "data = pd.read_excel(r\"C:\\Users\\Muha\\Desktop\\programming\\python\\LabeledText.xlsx\", dtype=str)\n",
    "data.head()"
   ]
  },
  {
   "cell_type": "code",
   "execution_count": 104,
   "id": "655060db",
   "metadata": {},
   "outputs": [
    {
     "name": "stderr",
     "output_type": "stream",
     "text": [
      "<>:6: SyntaxWarning: invalid escape sequence '\\S'\n",
      "<>:6: SyntaxWarning: invalid escape sequence '\\S'\n",
      "C:\\Users\\Muha\\AppData\\Local\\Temp\\ipykernel_6544\\3059584518.py:6: SyntaxWarning: invalid escape sequence '\\S'\n",
      "  text = re.sub('https?:\\\\/\\\\/\\S+', '', text)\n"
     ]
    }
   ],
   "source": [
    "def cleaning(text):\n",
    "    text = re.sub('[^a-zA-Z]', ' ', str(text).lower().strip())\n",
    "    text = re.sub('@[A-Za-z0-9_]+', '', text) \n",
    "    text = re.sub('#', '', text) \n",
    "    text = re.sub('RT[\\\\s]+', '', text)\n",
    "    text = re.sub('https?:\\\\/\\\\/\\S+', '', text) \n",
    "    text = re.sub('\\n', ' ', text)\n",
    "    return text"
   ]
  },
  {
   "cell_type": "code",
   "execution_count": 105,
   "id": "59a34030",
   "metadata": {},
   "outputs": [],
   "source": [
    "data[\"Caption\"]=data[\"Caption\"].apply(cleaning)\n",
    "data.drop(\"File Name\",axis=1,inplace=True)"
   ]
  },
  {
   "cell_type": "code",
   "execution_count": 106,
   "id": "5183a158",
   "metadata": {},
   "outputs": [
    {
     "data": {
      "text/html": [
       "<div>\n",
       "<style scoped>\n",
       "    .dataframe tbody tr th:only-of-type {\n",
       "        vertical-align: middle;\n",
       "    }\n",
       "\n",
       "    .dataframe tbody tr th {\n",
       "        vertical-align: top;\n",
       "    }\n",
       "\n",
       "    .dataframe thead th {\n",
       "        text-align: right;\n",
       "    }\n",
       "</style>\n",
       "<table border=\"1\" class=\"dataframe\">\n",
       "  <thead>\n",
       "    <tr style=\"text-align: right;\">\n",
       "      <th></th>\n",
       "      <th>Caption</th>\n",
       "      <th>LABEL</th>\n",
       "    </tr>\n",
       "  </thead>\n",
       "  <tbody>\n",
       "    <tr>\n",
       "      <th>0</th>\n",
       "      <td>how i feel today  legday  jelly  aching  gym</td>\n",
       "      <td>negative</td>\n",
       "    </tr>\n",
       "    <tr>\n",
       "      <th>1</th>\n",
       "      <td>arrivatw absolute disgrace two carriages from...</td>\n",
       "      <td>negative</td>\n",
       "    </tr>\n",
       "    <tr>\n",
       "      <th>2</th>\n",
       "      <td>this is my valentine s from   of my nephews  i...</td>\n",
       "      <td>positive</td>\n",
       "    </tr>\n",
       "    <tr>\n",
       "      <th>3</th>\n",
       "      <td>betterfeelingfilms  rt via instagram  first da...</td>\n",
       "      <td>neutral</td>\n",
       "    </tr>\n",
       "    <tr>\n",
       "      <th>4</th>\n",
       "      <td>zoe s first love  rattled  johnnyharper</td>\n",
       "      <td>positive</td>\n",
       "    </tr>\n",
       "  </tbody>\n",
       "</table>\n",
       "</div>"
      ],
      "text/plain": [
       "                                             Caption     LABEL\n",
       "0       how i feel today  legday  jelly  aching  gym  negative\n",
       "1   arrivatw absolute disgrace two carriages from...  negative\n",
       "2  this is my valentine s from   of my nephews  i...  positive\n",
       "3  betterfeelingfilms  rt via instagram  first da...   neutral\n",
       "4          zoe s first love  rattled  johnnyharper    positive"
      ]
     },
     "execution_count": 106,
     "metadata": {},
     "output_type": "execute_result"
    }
   ],
   "source": [
    "data.head()"
   ]
  },
  {
   "cell_type": "code",
   "execution_count": 107,
   "id": "63f4b3dd",
   "metadata": {},
   "outputs": [],
   "source": [
    "def lemm(data):\n",
    "    wordnet = WordNetLemmatizer()\n",
    "    lemmanized = []\n",
    "    \n",
    "    for i in range(len(data)):\n",
    "        lemmed = []\n",
    "        tokens = word_tokenize(data['Caption'].iloc[i])\n",
    "        for words in tokens:\n",
    "            lemmed.append(wordnet.lemmatize(words))\n",
    "        lemmanized.append(lemmed)\n",
    "\n",
    "    data['lemmanized'] = lemmanized\n",
    "    data['Caption'] = data['lemmanized'].apply(' '.join)\n",
    "    data = data.drop(\"lemmanized\", axis=1)\n",
    "    \n",
    "    return data"
   ]
  },
  {
   "cell_type": "code",
   "execution_count": 108,
   "id": "47d20559",
   "metadata": {},
   "outputs": [
    {
     "data": {
      "text/html": [
       "<div>\n",
       "<style scoped>\n",
       "    .dataframe tbody tr th:only-of-type {\n",
       "        vertical-align: middle;\n",
       "    }\n",
       "\n",
       "    .dataframe tbody tr th {\n",
       "        vertical-align: top;\n",
       "    }\n",
       "\n",
       "    .dataframe thead th {\n",
       "        text-align: right;\n",
       "    }\n",
       "</style>\n",
       "<table border=\"1\" class=\"dataframe\">\n",
       "  <thead>\n",
       "    <tr style=\"text-align: right;\">\n",
       "      <th></th>\n",
       "      <th>Caption</th>\n",
       "      <th>LABEL</th>\n",
       "    </tr>\n",
       "  </thead>\n",
       "  <tbody>\n",
       "    <tr>\n",
       "      <th>0</th>\n",
       "      <td>how i feel today legday jelly aching gym</td>\n",
       "      <td>negative</td>\n",
       "    </tr>\n",
       "    <tr>\n",
       "      <th>1</th>\n",
       "      <td>arrivatw absolute disgrace two carriage from b...</td>\n",
       "      <td>negative</td>\n",
       "    </tr>\n",
       "    <tr>\n",
       "      <th>2</th>\n",
       "      <td>this is my valentine s from of my nephew i am ...</td>\n",
       "      <td>positive</td>\n",
       "    </tr>\n",
       "    <tr>\n",
       "      <th>3</th>\n",
       "      <td>betterfeelingfilms rt via instagram first day ...</td>\n",
       "      <td>neutral</td>\n",
       "    </tr>\n",
       "    <tr>\n",
       "      <th>4</th>\n",
       "      <td>zoe s first love rattled johnnyharper</td>\n",
       "      <td>positive</td>\n",
       "    </tr>\n",
       "  </tbody>\n",
       "</table>\n",
       "</div>"
      ],
      "text/plain": [
       "                                             Caption     LABEL\n",
       "0           how i feel today legday jelly aching gym  negative\n",
       "1  arrivatw absolute disgrace two carriage from b...  negative\n",
       "2  this is my valentine s from of my nephew i am ...  positive\n",
       "3  betterfeelingfilms rt via instagram first day ...   neutral\n",
       "4              zoe s first love rattled johnnyharper  positive"
      ]
     },
     "execution_count": 108,
     "metadata": {},
     "output_type": "execute_result"
    }
   ],
   "source": [
    "data = lemm(data)\n",
    "data.head()"
   ]
  },
  {
   "cell_type": "code",
   "execution_count": 111,
   "id": "e501961b",
   "metadata": {},
   "outputs": [],
   "source": [
    "from sklearn.model_selection import train_test_split\n",
    "from sklearn.feature_extraction.text import CountVectorizer\n",
    "from sklearn.naive_bayes import MultinomialNB\n",
    "from sklearn.metrics import accuracy_score\n",
    "from sklearn.metrics import confusion_matrix"
   ]
  },
  {
   "cell_type": "code",
   "execution_count": 112,
   "id": "85fefaae",
   "metadata": {},
   "outputs": [
    {
     "name": "stdout",
     "output_type": "stream",
     "text": [
      "Accuracy: 0.6652977412731006\n"
     ]
    }
   ],
   "source": [
    "X_train, X_test, y_train, y_test = train_test_split(data['Caption'], data['LABEL'], test_size=0.2, random_state=48)\n",
    "\n",
    "vectorizer = CountVectorizer()\n",
    "X_train = vectorizer.fit_transform(X_train)\n",
    "X_test = vectorizer.transform(X_test)\n",
    "\n",
    "classifier = MultinomialNB()\n",
    "classifier.fit(X_train, y_train)\n",
    "\n",
    "y_pred = classifier.predict(X_test)\n",
    "\n",
    "accuracy = accuracy_score(y_test, y_pred)\n",
    "print(\"Accuracy:\", accuracy)"
   ]
  },
  {
   "cell_type": "code",
   "execution_count": 118,
   "id": "db46ac78",
   "metadata": {},
   "outputs": [
    {
     "data": {
      "text/plain": [
       "array(['neutral', 'positive', 'neutral', 'positive', 'negative',\n",
       "       'neutral', 'neutral', 'positive', 'positive', 'neutral', 'neutral',\n",
       "       'negative', 'positive', 'neutral', 'neutral', 'positive',\n",
       "       'negative', 'positive', 'negative', 'positive', 'negative',\n",
       "       'positive', 'positive', 'positive', 'negative', 'positive',\n",
       "       'neutral', 'neutral', 'positive', 'positive', 'neutral',\n",
       "       'positive', 'positive', 'neutral', 'positive', 'positive',\n",
       "       'positive', 'positive', 'positive', 'negative', 'negative',\n",
       "       'negative', 'negative', 'neutral', 'negative', 'positive',\n",
       "       'neutral', 'neutral', 'positive', 'positive', 'negative',\n",
       "       'negative', 'neutral', 'positive', 'negative', 'neutral',\n",
       "       'positive', 'neutral', 'negative', 'neutral', 'positive',\n",
       "       'neutral', 'positive', 'neutral', 'neutral', 'neutral', 'neutral',\n",
       "       'positive', 'negative', 'negative', 'negative', 'negative',\n",
       "       'positive', 'positive', 'negative', 'negative', 'positive',\n",
       "       'neutral', 'positive', 'neutral', 'neutral', 'positive', 'neutral',\n",
       "       'positive', 'neutral', 'positive', 'positive', 'negative',\n",
       "       'positive', 'positive', 'negative', 'positive', 'negative',\n",
       "       'positive', 'negative', 'positive', 'positive', 'positive',\n",
       "       'negative', 'negative', 'positive', 'neutral', 'positive',\n",
       "       'neutral', 'positive', 'positive', 'neutral', 'neutral',\n",
       "       'negative', 'positive', 'positive', 'negative', 'negative',\n",
       "       'positive', 'positive', 'positive', 'neutral', 'positive',\n",
       "       'positive', 'negative', 'negative', 'negative', 'positive',\n",
       "       'positive', 'neutral', 'neutral', 'neutral', 'negative',\n",
       "       'positive', 'positive', 'positive', 'neutral', 'neutral',\n",
       "       'neutral', 'negative', 'neutral', 'positive', 'negative',\n",
       "       'positive', 'positive', 'negative', 'neutral', 'neutral',\n",
       "       'negative', 'negative', 'negative', 'positive', 'negative',\n",
       "       'negative', 'neutral', 'negative', 'neutral', 'negative',\n",
       "       'positive', 'negative', 'negative', 'positive', 'positive',\n",
       "       'negative', 'negative', 'negative', 'neutral', 'neutral',\n",
       "       'neutral', 'negative', 'neutral', 'neutral', 'positive',\n",
       "       'positive', 'negative', 'negative', 'neutral', 'neutral',\n",
       "       'positive', 'negative', 'positive', 'neutral', 'negative',\n",
       "       'neutral', 'positive', 'neutral', 'positive', 'positive',\n",
       "       'positive', 'positive', 'neutral', 'positive', 'positive',\n",
       "       'positive', 'negative', 'positive', 'positive', 'positive',\n",
       "       'negative', 'neutral', 'positive', 'neutral', 'positive',\n",
       "       'neutral', 'neutral', 'negative', 'positive', 'negative',\n",
       "       'negative', 'positive', 'positive', 'positive', 'positive',\n",
       "       'negative', 'positive', 'positive', 'positive', 'positive',\n",
       "       'neutral', 'neutral', 'positive', 'neutral', 'positive', 'neutral',\n",
       "       'negative', 'neutral', 'negative', 'neutral', 'positive',\n",
       "       'neutral', 'neutral', 'negative', 'positive', 'negative',\n",
       "       'neutral', 'negative', 'neutral', 'negative', 'neutral',\n",
       "       'positive', 'neutral', 'negative', 'negative', 'positive',\n",
       "       'positive', 'positive', 'neutral', 'positive', 'neutral',\n",
       "       'positive', 'negative', 'negative', 'neutral', 'neutral',\n",
       "       'negative', 'negative', 'positive', 'neutral', 'neutral',\n",
       "       'neutral', 'negative', 'neutral', 'neutral', 'neutral', 'neutral',\n",
       "       'neutral', 'positive', 'neutral', 'neutral', 'neutral', 'neutral',\n",
       "       'negative', 'neutral', 'negative', 'negative', 'negative',\n",
       "       'neutral', 'positive', 'neutral', 'negative', 'negative',\n",
       "       'neutral', 'negative', 'negative', 'positive', 'positive',\n",
       "       'neutral', 'negative', 'negative', 'negative', 'positive',\n",
       "       'positive', 'positive', 'neutral', 'positive', 'neutral',\n",
       "       'neutral', 'positive', 'positive', 'neutral', 'negative',\n",
       "       'negative', 'neutral', 'neutral', 'positive', 'neutral',\n",
       "       'negative', 'negative', 'positive', 'negative', 'positive',\n",
       "       'neutral', 'positive', 'neutral', 'positive', 'neutral',\n",
       "       'negative', 'negative', 'negative', 'negative', 'negative',\n",
       "       'positive', 'negative', 'negative', 'positive', 'positive',\n",
       "       'positive', 'negative', 'positive', 'positive', 'neutral',\n",
       "       'negative', 'neutral', 'negative', 'positive', 'neutral',\n",
       "       'positive', 'neutral', 'negative', 'negative', 'negative',\n",
       "       'positive', 'neutral', 'neutral', 'neutral', 'positive',\n",
       "       'negative', 'negative', 'neutral', 'positive', 'positive',\n",
       "       'neutral', 'positive', 'positive', 'neutral', 'positive',\n",
       "       'positive', 'neutral', 'negative', 'positive', 'negative',\n",
       "       'positive', 'positive', 'neutral', 'positive', 'positive',\n",
       "       'neutral', 'negative', 'positive', 'negative', 'positive',\n",
       "       'positive', 'negative', 'negative', 'positive', 'positive',\n",
       "       'neutral', 'neutral', 'neutral', 'positive', 'neutral', 'neutral',\n",
       "       'neutral', 'negative', 'positive', 'positive', 'neutral',\n",
       "       'positive', 'negative', 'positive', 'neutral', 'neutral',\n",
       "       'positive', 'negative', 'positive', 'negative', 'positive',\n",
       "       'neutral', 'neutral', 'negative', 'neutral', 'neutral', 'positive',\n",
       "       'negative', 'negative', 'positive', 'neutral', 'neutral',\n",
       "       'positive', 'positive', 'negative', 'positive', 'neutral',\n",
       "       'positive', 'negative', 'negative', 'positive', 'negative',\n",
       "       'positive', 'negative', 'negative', 'positive', 'positive',\n",
       "       'negative', 'negative', 'neutral', 'negative', 'negative',\n",
       "       'neutral', 'positive', 'neutral', 'neutral', 'negative', 'neutral',\n",
       "       'neutral', 'negative', 'negative', 'negative', 'negative',\n",
       "       'positive', 'negative', 'neutral', 'positive', 'negative',\n",
       "       'positive', 'negative', 'negative', 'neutral', 'negative',\n",
       "       'negative', 'positive', 'positive', 'neutral', 'neutral',\n",
       "       'negative', 'negative', 'positive', 'positive', 'negative',\n",
       "       'negative', 'positive', 'negative', 'neutral', 'positive',\n",
       "       'neutral', 'neutral', 'positive', 'negative', 'negative',\n",
       "       'neutral', 'negative', 'negative', 'positive', 'positive',\n",
       "       'positive', 'negative', 'neutral', 'negative', 'neutral',\n",
       "       'neutral', 'positive', 'positive', 'neutral', 'neutral', 'neutral',\n",
       "       'neutral', 'neutral', 'neutral', 'negative', 'positive', 'neutral',\n",
       "       'neutral', 'neutral', 'negative', 'negative', 'positive',\n",
       "       'positive', 'positive', 'positive', 'positive', 'negative',\n",
       "       'neutral', 'positive', 'neutral', 'neutral', 'positive',\n",
       "       'positive', 'neutral', 'negative', 'negative', 'positive',\n",
       "       'positive', 'positive', 'negative', 'negative', 'negative',\n",
       "       'neutral', 'positive', 'positive', 'positive', 'neutral',\n",
       "       'positive', 'neutral', 'positive', 'neutral', 'negative',\n",
       "       'neutral', 'neutral', 'neutral', 'negative', 'neutral', 'positive',\n",
       "       'negative', 'negative', 'neutral', 'neutral', 'neutral',\n",
       "       'positive', 'neutral', 'negative', 'positive', 'neutral',\n",
       "       'neutral', 'positive', 'positive', 'positive', 'neutral',\n",
       "       'negative', 'negative', 'positive', 'negative', 'positive',\n",
       "       'positive', 'negative', 'neutral', 'negative', 'neutral',\n",
       "       'negative', 'positive', 'positive', 'neutral', 'negative',\n",
       "       'negative', 'neutral', 'neutral', 'neutral', 'negative',\n",
       "       'positive', 'neutral', 'neutral', 'positive', 'negative',\n",
       "       'positive', 'positive', 'negative', 'negative', 'positive',\n",
       "       'neutral', 'neutral', 'neutral', 'negative', 'positive',\n",
       "       'positive', 'negative', 'neutral', 'negative', 'positive',\n",
       "       'negative', 'negative', 'negative', 'positive', 'negative',\n",
       "       'negative', 'positive', 'positive', 'positive', 'positive',\n",
       "       'negative', 'negative', 'neutral', 'negative', 'positive',\n",
       "       'positive', 'positive', 'negative', 'positive', 'positive',\n",
       "       'neutral', 'negative', 'negative', 'positive', 'negative',\n",
       "       'negative', 'negative', 'positive', 'negative', 'negative',\n",
       "       'negative', 'positive', 'positive', 'negative', 'positive',\n",
       "       'neutral', 'positive', 'positive', 'negative', 'positive',\n",
       "       'neutral', 'positive', 'neutral', 'positive', 'negative',\n",
       "       'negative', 'positive', 'positive', 'positive', 'negative',\n",
       "       'neutral', 'neutral', 'positive', 'positive', 'negative',\n",
       "       'positive', 'positive', 'positive', 'negative', 'positive',\n",
       "       'positive', 'negative', 'positive', 'negative', 'neutral',\n",
       "       'positive', 'negative', 'negative', 'negative', 'positive',\n",
       "       'positive', 'negative', 'positive', 'negative', 'neutral',\n",
       "       'negative', 'neutral', 'neutral', 'neutral', 'negative',\n",
       "       'negative', 'neutral', 'positive', 'positive', 'positive',\n",
       "       'positive', 'neutral', 'positive', 'neutral', 'negative',\n",
       "       'positive', 'negative', 'positive', 'neutral', 'positive',\n",
       "       'neutral', 'neutral', 'neutral', 'neutral', 'negative', 'negative',\n",
       "       'negative', 'neutral', 'positive', 'neutral', 'negative',\n",
       "       'neutral', 'negative', 'positive', 'positive', 'negative',\n",
       "       'positive', 'positive', 'neutral', 'negative', 'positive',\n",
       "       'negative', 'neutral', 'neutral', 'negative', 'positive',\n",
       "       'positive', 'neutral', 'positive', 'neutral', 'positive',\n",
       "       'negative', 'neutral', 'positive', 'positive', 'positive',\n",
       "       'positive', 'negative', 'positive', 'positive', 'positive',\n",
       "       'negative', 'positive', 'neutral', 'negative', 'positive',\n",
       "       'neutral', 'positive', 'negative', 'neutral', 'positive',\n",
       "       'neutral', 'negative', 'negative', 'neutral', 'negative',\n",
       "       'negative', 'positive', 'negative', 'negative', 'negative',\n",
       "       'negative', 'positive', 'positive', 'neutral', 'positive',\n",
       "       'negative', 'negative', 'positive', 'positive', 'negative',\n",
       "       'positive', 'positive', 'negative', 'neutral', 'positive',\n",
       "       'neutral', 'negative', 'positive', 'negative', 'negative',\n",
       "       'negative', 'negative', 'negative', 'neutral', 'negative',\n",
       "       'neutral', 'neutral', 'neutral', 'negative', 'neutral', 'negative',\n",
       "       'positive', 'positive', 'positive', 'positive', 'positive',\n",
       "       'neutral', 'positive', 'neutral', 'negative', 'positive',\n",
       "       'negative', 'negative', 'neutral', 'positive', 'negative',\n",
       "       'positive', 'positive', 'positive', 'negative', 'negative',\n",
       "       'positive', 'negative', 'negative', 'negative', 'neutral',\n",
       "       'neutral', 'negative', 'positive', 'negative', 'positive',\n",
       "       'positive', 'neutral', 'neutral', 'negative', 'positive',\n",
       "       'negative', 'positive', 'negative', 'negative', 'neutral',\n",
       "       'positive', 'negative', 'positive', 'neutral', 'negative',\n",
       "       'positive', 'positive', 'neutral', 'positive', 'neutral',\n",
       "       'neutral', 'neutral', 'positive', 'positive', 'negative',\n",
       "       'positive', 'neutral', 'neutral', 'neutral', 'positive',\n",
       "       'positive', 'neutral', 'neutral', 'negative', 'negative',\n",
       "       'positive', 'neutral', 'positive', 'neutral', 'positive',\n",
       "       'neutral', 'neutral', 'neutral', 'positive', 'positive',\n",
       "       'negative', 'negative', 'neutral', 'positive', 'negative',\n",
       "       'positive', 'neutral', 'positive', 'negative', 'negative',\n",
       "       'positive', 'negative', 'positive', 'positive', 'negative',\n",
       "       'neutral', 'neutral', 'negative', 'negative', 'negative',\n",
       "       'neutral', 'neutral', 'neutral', 'neutral', 'negative', 'negative',\n",
       "       'negative', 'neutral', 'negative', 'negative', 'neutral',\n",
       "       'negative', 'negative', 'negative', 'neutral', 'positive',\n",
       "       'neutral', 'neutral', 'negative', 'neutral', 'neutral', 'negative',\n",
       "       'neutral', 'neutral', 'positive', 'negative', 'positive',\n",
       "       'positive', 'negative', 'positive', 'neutral', 'positive',\n",
       "       'positive', 'positive', 'positive', 'positive', 'neutral',\n",
       "       'positive', 'neutral', 'neutral', 'neutral', 'positive', 'neutral',\n",
       "       'neutral', 'neutral', 'positive', 'negative', 'negative',\n",
       "       'neutral', 'neutral', 'positive', 'positive', 'negative',\n",
       "       'positive', 'neutral', 'negative', 'negative', 'neutral',\n",
       "       'positive', 'positive', 'negative', 'neutral', 'positive',\n",
       "       'positive', 'negative', 'positive', 'neutral', 'positive',\n",
       "       'negative', 'positive', 'positive', 'positive', 'positive',\n",
       "       'neutral', 'positive', 'positive', 'positive', 'neutral',\n",
       "       'positive', 'positive', 'positive', 'positive', 'positive',\n",
       "       'positive', 'negative', 'negative', 'negative', 'neutral',\n",
       "       'positive', 'neutral', 'negative', 'negative', 'positive',\n",
       "       'negative', 'neutral', 'negative', 'neutral', 'positive',\n",
       "       'neutral', 'positive', 'positive', 'positive', 'negative',\n",
       "       'negative', 'neutral', 'negative', 'positive', 'positive',\n",
       "       'neutral', 'negative'], dtype='<U8')"
      ]
     },
     "execution_count": 118,
     "metadata": {},
     "output_type": "execute_result"
    }
   ],
   "source": [
    "y_pred"
   ]
  },
  {
   "cell_type": "code",
   "execution_count": 113,
   "id": "eacc1dc4",
   "metadata": {},
   "outputs": [
    {
     "name": "stdout",
     "output_type": "stream",
     "text": [
      "[[197  48  38]\n",
      " [ 91 198  79]\n",
      " [ 22  48 253]]\n"
     ]
    }
   ],
   "source": [
    "conf_matrix = confusion_matrix(y_test, y_pred)\n",
    "print(conf_matrix)"
   ]
  },
  {
   "cell_type": "code",
   "execution_count": 115,
   "id": "fbf10ebe",
   "metadata": {},
   "outputs": [],
   "source": [
    "import seaborn as sns\n",
    "import matplotlib.pyplot as plt"
   ]
  },
  {
   "cell_type": "code",
   "execution_count": 116,
   "id": "2376c94c",
   "metadata": {},
   "outputs": [
    {
     "data": {
      "image/png": "[encoded data removed]",
      "text/plain": [
       "<Figure size 800x600 with 1 Axes>"
      ]
     },
     "metadata": {},
     "output_type": "display_data"
    }
   ],
   "source": [
    "# Create a heatmap of the confusion matrix\n",
    "plt.figure(figsize=(8, 6))\n",
    "sns.heatmap(conf_matrix, annot=True, fmt=\"d\", cmap=\"Blues\", cbar=False, square=True)\n",
    "\n",
    "plt.title(\"Confusion Matrix\")\n",
    "plt.xlabel('Predicted')\n",
    "plt.ylabel('True')\n",
    "\n",
    "plt.show()"
   ]
  }
 ],
 "metadata": {
  "kernelspec": {
   "display_name": "Python 3 (ipykernel)",
   "language": "python",
   "name": "python3"
  },
  "language_info": {
   "codemirror_mode": {
    "name": "ipython",
    "version": 3
   },
   "file_extension": ".py",
   "mimetype": "text/x-python",
   "name": "python",
   "nbconvert_exporter": "python",
   "pygments_lexer": "ipython3",
   "version": "3.12.0"
  }
 },
 "nbformat": 4,
 "nbformat_minor": 5
}
