{
 "cells": [
  {
   "cell_type": "code",
   "execution_count": 6,
   "metadata": {},
   "outputs": [
    {
     "name": "stderr",
     "output_type": "stream",
     "text": [
      "[nltk_data] Downloading package punkt to\n",
      "[nltk_data]     C:\\Users\\Muha\\AppData\\Roaming\\nltk_data...\n",
      "[nltk_data]   Package punkt is already up-to-date!\n",
      "[nltk_data] Downloading package wordnet to\n",
      "[nltk_data]     C:\\Users\\Muha\\AppData\\Roaming\\nltk_data...\n",
      "[nltk_data]   Package wordnet is already up-to-date!\n",
      "[nltk_data] Downloading package stopwords to\n",
      "[nltk_data]     C:\\Users\\Muha\\AppData\\Roaming\\nltk_data...\n",
      "[nltk_data]   Package stopwords is already up-to-date!\n",
      "[nltk_data] Downloading package averaged_perceptron_tagger to\n",
      "[nltk_data]     C:\\Users\\Muha\\AppData\\Roaming\\nltk_data...\n",
      "[nltk_data]   Package averaged_perceptron_tagger is already up-to-\n",
      "[nltk_data]       date!\n",
      "[nltk_data] Downloading package averaged_perceptron_tagger_ru to\n",
      "[nltk_data]     C:\\Users\\Muha\\AppData\\Roaming\\nltk_data...\n",
      "[nltk_data]   Unzipping taggers\\averaged_perceptron_tagger_ru.zip.\n"
     ]
    },
    {
     "data": {
      "text/plain": [
       "True"
      ]
     },
     "execution_count": 6,
     "metadata": {},
     "output_type": "execute_result"
    }
   ],
   "source": [
    "import nltk\n",
    "nltk.download('punkt')\n",
    "nltk.download('wordnet')\n",
    "nltk.download('stopwords')\n",
    "nltk.download('averaged_perceptron_tagger')\n",
    "nltk.download('averaged_perceptron_tagger_ru')"
   ]
  },
  {
   "cell_type": "code",
   "execution_count": 3,
   "metadata": {},
   "outputs": [],
   "source": [
    "from nltk.corpus import stopwords\n",
    "from nltk.tokenize import word_tokenize, sent_tokenize\n",
    "from nltk.stem import WordNetLemmatizer\n",
    "from nltk.corpus import wordnet as wn\n",
    "from nltk import pos_tag\n",
    "from collections import defaultdict"
   ]
  },
  {
   "cell_type": "code",
   "execution_count": 7,
   "metadata": {},
   "outputs": [
    {
     "name": "stdout",
     "output_type": "stream",
     "text": [
      "Когда они углублялись, звук 45 шагов раздавался.\n",
      "Внезапно, скрытая люк подскочила вверх!\n",
      "Это был момент как удивления, так и опасности.\n",
      "Исследователи задохнулись, осознав, что они наткнулись на нечто гораздо более сложное, чем они себе представляли!\n"
     ]
    }
   ],
   "source": [
    "text = \"Когда они углублялись, звук 45 шагов раздавался.\\nВнезапно, скрытая люк подскочила вверх!\\nЭто был момент как удивления, так и опасности.\\nИсследователи задохнулись, осознав, что они наткнулись на нечто гораздо более сложное, чем они себе представляли!\"\n",
    "print(text)"
   ]
  },
  {
   "cell_type": "code",
   "execution_count": 8,
   "metadata": {},
   "outputs": [
    {
     "name": "stdout",
     "output_type": "stream",
     "text": [
      "углублялись{углублялись=V} звук{звук=S} шагов{шагов=S} раздавался{раздавался=V}\n",
      "внезапно{внезапно=ADV} скрытая{скрытая=V} люк{люк=S} подскочила{подскочила=V} вверх{вверх=ADV}\n",
      "это{это=ADV} момент{момент=S} удивления{удивления=S} опасности{опасности=S}\n",
      "исследователи{исследователи=S} задохнулись{задохнулись=V} осознав{осознав=V} наткнулись{наткнулись=V} нечто{нечто=ADV} гораздо{гораздо=ADV} сложное{сложное=ADV} представляли{представляли=V}\n"
     ]
    }
   ],
   "source": [
    "sentences = sent_tokenize(text)\n",
    "result_sentences = []\n",
    "\n",
    "lemma_function = WordNetLemmatizer()\n",
    "\n",
    "tag_map = defaultdict(lambda: wn.NOUN)\n",
    "tag_map['S'] = wn.NOUN\n",
    "tag_map['A'] = wn.ADJ\n",
    "tag_map['V'] = wn.VERB\n",
    "tag_map['ADV'] = wn.ADV\n",
    "\n",
    "stop_words_ru = set(stopwords.words('russian'))\n",
    "\n",
    "for sentence in sentences:\n",
    "    tokenization = word_tokenize(sentence.lower())  # Приводим к нижнему регистру\n",
    "    tokens = [word for word in tokenization if word.isalpha() and not word in stop_words_ru]\n",
    "    lemmatized_tokens = []\n",
    "\n",
    "    for word, tag in pos_tag(tokens, lang='rus'):\n",
    "        if tag == 'S':\n",
    "            tag = 'S'\n",
    "        elif tag == 'A':\n",
    "            tag = 'A'\n",
    "        elif tag == 'V':\n",
    "            tag = 'V'\n",
    "        else:\n",
    "            tag = 'ADV'\n",
    "        lemmaWord = lemma_function.lemmatize(word, tag_map[tag])\n",
    "        lemmatized_token = f'{word}{{{lemmaWord}={tag}}}'\n",
    "        lemmatized_tokens.append(lemmatized_token)\n",
    "\n",
    "    result_sentence = ' '.join(lemmatized_tokens)\n",
    "    result_sentences.append(result_sentence)\n",
    "\n",
    "result_text = '\\n'.join(result_sentences)\n",
    "print(result_text)"
   ]
  }
 ],
 "metadata": {
  "kernelspec": {
   "display_name": "Python 3",
   "language": "python",
   "name": "python3"
  },
  "language_info": {
   "codemirror_mode": {
    "name": "ipython",
    "version": 3
   },
   "file_extension": ".py",
   "mimetype": "text/x-python",
   "name": "python",
   "nbconvert_exporter": "python",
   "pygments_lexer": "ipython3",
   "version": "3.12.0"
  }
 },
 "nbformat": 4,
 "nbformat_minor": 2
}
